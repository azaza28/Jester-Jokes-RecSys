{
 "cells": [
  {
   "cell_type": "markdown",
   "id": "80804ea4-e7ab-4822-8ad3-3de4be563124",
   "metadata": {},
   "source": [
    "#### Importing required libraries"
   ]
  },
  {
   "cell_type": "code",
   "execution_count": 1,
   "id": "390e53d5-4680-4900-8f9c-9e8b80bb5e2c",
   "metadata": {
    "execution": {
     "iopub.execute_input": "2024-12-07T07:29:43.227028Z",
     "iopub.status.busy": "2024-12-07T07:29:43.225940Z",
     "iopub.status.idle": "2024-12-07T07:29:43.543632Z",
     "shell.execute_reply": "2024-12-07T07:29:43.542913Z",
     "shell.execute_reply.started": "2024-12-07T07:29:43.226987Z"
    },
    "tags": []
   },
   "outputs": [],
   "source": [
    "import polars as pl\n",
    "import numpy as np\n",
    "from sklearn.model_selection import train_test_split"
   ]
  },
  {
   "cell_type": "markdown",
   "id": "c64007b2-cc76-4012-b391-4d7dfd39f614",
   "metadata": {},
   "source": [
    "#### Function definition"
   ]
  },
  {
   "cell_type": "code",
   "execution_count": 2,
   "id": "86261083-82dc-4602-9a1b-aea8072fa818",
   "metadata": {
    "execution": {
     "iopub.execute_input": "2024-12-07T07:29:43.545522Z",
     "iopub.status.busy": "2024-12-07T07:29:43.544859Z",
     "iopub.status.idle": "2024-12-07T07:29:43.560901Z",
     "shell.execute_reply": "2024-12-07T07:29:43.560320Z",
     "shell.execute_reply.started": "2024-12-07T07:29:43.545497Z"
    },
    "tags": []
   },
   "outputs": [],
   "source": [
    "def prepare_dataset_with_content_based_cold_start(\n",
    "    ratings: pl.DataFrame,\n",
    "    items: pl.DataFrame,\n",
    "    cold_start_joke_count: int = 10,\n",
    "    test_size: float = 0.10,\n",
    "    random_state: int = 42\n",
    "):\n",
    "    \"\"\"\n",
    "    Prepares a train-test split with a content-based cold-start scenario for jokes.\n",
    "\n",
    "    Steps:\n",
    "    1. Select a subset of existing jokes as cold-start jokes.\n",
    "    2. Separate all ratings of these jokes into the test set.\n",
    "    3. Perform a stratified random split on the remaining ratings to form the main train and test sets.\n",
    "    4. Combine the cold-start ratings with the main test set.\n",
    "\n",
    "    Args:\n",
    "        ratings (pl.DataFrame): User-joke interaction data (userId, jokeId, rating).\n",
    "        items (pl.DataFrame): Joke metadata (jokeId, jokeText, etc.).\n",
    "        cold_start_joke_count (int): Number of jokes to treat as cold-start.\n",
    "        test_size (float): Proportion of random test data (excluding cold-start jokes).\n",
    "        random_state (int): Random seed for reproducibility.\n",
    "\n",
    "    Returns:\n",
    "        train_data (pl.DataFrame): Training set.\n",
    "        test_data (pl.DataFrame): Test set (includes cold-start jokes).\n",
    "        items (pl.DataFrame): Items dataset (unchanged), can be used with cold-start jokes.\n",
    "    \"\"\"\n",
    "\n",
    "    # Step 1: Select Cold-Start Jokes\n",
    "    # Shuffle joke IDs and pick the first 'cold_start_joke_count' as cold-start jokes\n",
    "    joke_ids = items[\"jokeId\"].to_list()\n",
    "    np.random.seed(random_state)\n",
    "    np.random.shuffle(joke_ids)\n",
    "    cold_start_jokes = set(joke_ids[:cold_start_joke_count])\n",
    "\n",
    "    # Extract cold-start ratings\n",
    "    cold_start_ratings = ratings.filter(pl.col(\"jokeId\").is_in(cold_start_jokes))\n",
    "\n",
    "    # The remaining ratings for splitting\n",
    "    remaining_ratings = ratings.filter(~pl.col(\"jokeId\").is_in(cold_start_jokes))\n",
    "\n",
    "    # Step 2: Exclude users with only one interaction in remaining_ratings\n",
    "    user_interaction_counts = remaining_ratings.groupby(\"userId\").count()\n",
    "    valid_users = user_interaction_counts.filter(pl.col(\"count\") > 1)[\"userId\"]\n",
    "    remaining_ratings_filtered = remaining_ratings.filter(pl.col(\"userId\").is_in(valid_users))\n",
    "\n",
    "    # Step 3: Perform a stratified random split on remaining_ratings_filtered\n",
    "    # Convert to pandas for sklearn train_test_split\n",
    "    remaining_pd = remaining_ratings_filtered.to_pandas()\n",
    "    train_pd, test_pd_general = train_test_split(\n",
    "        remaining_pd,\n",
    "        test_size=test_size,\n",
    "        random_state=random_state,\n",
    "        stratify=remaining_pd[\"userId\"]\n",
    "    )\n",
    "\n",
    "    train_data = pl.from_pandas(train_pd)\n",
    "    test_data_general = pl.from_pandas(test_pd_general)\n",
    "\n",
    "    # Step 4: Combine cold-start ratings with the general test set\n",
    "    # cold_start_ratings represent all interactions of the cold-start jokes\n",
    "    # Add them to the test data to simulate cold-start items\n",
    "    test_data = pl.concat([test_data_general, cold_start_ratings])\n",
    "\n",
    "    return train_data, test_data, items"
   ]
  },
  {
   "cell_type": "markdown",
   "id": "14d762cd-f0a6-4216-a880-0b004f1da784",
   "metadata": {},
   "source": [
    "#### Reading the data"
   ]
  },
  {
   "cell_type": "code",
   "execution_count": 3,
   "id": "04e253a3-85c8-4fd0-9928-406db8d86663",
   "metadata": {
    "execution": {
     "iopub.execute_input": "2024-12-07T07:29:43.562539Z",
     "iopub.status.busy": "2024-12-07T07:29:43.561660Z",
     "iopub.status.idle": "2024-12-07T07:29:44.184117Z",
     "shell.execute_reply": "2024-12-07T07:29:44.183363Z",
     "shell.execute_reply.started": "2024-12-07T07:29:43.562506Z"
    },
    "tags": []
   },
   "outputs": [],
   "source": [
    "ratings = pl.read_csv('../data/raw/jester_ratings.csv')  \n",
    "ratings = ratings.drop_nulls()\n",
    "items = pl.read_csv('../data/raw/jester_items.csv')    "
   ]
  },
  {
   "cell_type": "markdown",
   "id": "ecd9cec0-1c79-406e-891b-6e5801b9d06f",
   "metadata": {},
   "source": [
    "#### Splitting the data"
   ]
  },
  {
   "cell_type": "code",
   "execution_count": 4,
   "id": "2cdd117a-c567-4b85-b7b8-26f90bb51d85",
   "metadata": {
    "execution": {
     "iopub.execute_input": "2024-12-07T07:29:44.186470Z",
     "iopub.status.busy": "2024-12-07T07:29:44.185624Z",
     "iopub.status.idle": "2024-12-07T07:29:44.581061Z",
     "shell.execute_reply": "2024-12-07T07:29:44.580368Z",
     "shell.execute_reply.started": "2024-12-07T07:29:44.186434Z"
    },
    "tags": []
   },
   "outputs": [],
   "source": [
    "train_data, test_data, shuffled_items = prepare_dataset_with_content_based_cold_start(ratings, items, cold_start_joke_count=7)"
   ]
  },
  {
   "cell_type": "markdown",
   "id": "734a7bed-6a12-4534-be42-19da0cf56663",
   "metadata": {},
   "source": [
    "#### Basic stats of obtained samples"
   ]
  },
  {
   "cell_type": "code",
   "execution_count": 5,
   "id": "6a04f4d4-339c-4be6-8f14-c272d18229b8",
   "metadata": {
    "execution": {
     "iopub.execute_input": "2024-12-07T07:29:44.582457Z",
     "iopub.status.busy": "2024-12-07T07:29:44.581870Z",
     "iopub.status.idle": "2024-12-07T07:29:44.642458Z",
     "shell.execute_reply": "2024-12-07T07:29:44.641817Z",
     "shell.execute_reply.started": "2024-12-07T07:29:44.582433Z"
    },
    "tags": []
   },
   "outputs": [
    {
     "data": {
      "text/html": [
       "<div><style>\n",
       ".dataframe > thead > tr > th,\n",
       ".dataframe > tbody > tr > td {\n",
       "  text-align: right;\n",
       "}\n",
       "</style>\n",
       "<small>shape: (9, 4)</small><table border=\"1\" class=\"dataframe\"><thead><tr><th>describe</th><th>userId</th><th>jokeId</th><th>rating</th></tr><tr><td>str</td><td>f64</td><td>f64</td><td>f64</td></tr></thead><tbody><tr><td>&quot;count&quot;</td><td>323433.0</td><td>323433.0</td><td>323433.0</td></tr><tr><td>&quot;null_count&quot;</td><td>0.0</td><td>0.0</td><td>0.0</td></tr><tr><td>&quot;mean&quot;</td><td>6684.506238</td><td>71.466202</td><td>1.414847</td></tr><tr><td>&quot;std&quot;</td><td>4521.82508</td><td>46.444096</td><td>5.622701</td></tr><tr><td>&quot;min&quot;</td><td>1.0</td><td>5.0</td><td>-10.0</td></tr><tr><td>&quot;max&quot;</td><td>14780.0</td><td>150.0</td><td>10.0</td></tr><tr><td>&quot;median&quot;</td><td>6139.0</td><td>70.0</td><td>2.094</td></tr><tr><td>&quot;25%&quot;</td><td>2501.0</td><td>22.0</td><td>-2.812</td></tr><tr><td>&quot;75%&quot;</td><td>10757.0</td><td>113.0</td><td>5.938</td></tr></tbody></table></div>"
      ],
      "text/plain": [
       "shape: (9, 4)\n",
       "┌────────────┬─────────────┬───────────┬──────────┐\n",
       "│ describe   ┆ userId      ┆ jokeId    ┆ rating   │\n",
       "│ ---        ┆ ---         ┆ ---       ┆ ---      │\n",
       "│ str        ┆ f64         ┆ f64       ┆ f64      │\n",
       "╞════════════╪═════════════╪═══════════╪══════════╡\n",
       "│ count      ┆ 323433.0    ┆ 323433.0  ┆ 323433.0 │\n",
       "│ null_count ┆ 0.0         ┆ 0.0       ┆ 0.0      │\n",
       "│ mean       ┆ 6684.506238 ┆ 71.466202 ┆ 1.414847 │\n",
       "│ std        ┆ 4521.82508  ┆ 46.444096 ┆ 5.622701 │\n",
       "│ min        ┆ 1.0         ┆ 5.0       ┆ -10.0    │\n",
       "│ max        ┆ 14780.0     ┆ 150.0     ┆ 10.0     │\n",
       "│ median     ┆ 6139.0      ┆ 70.0      ┆ 2.094    │\n",
       "│ 25%        ┆ 2501.0      ┆ 22.0      ┆ -2.812   │\n",
       "│ 75%        ┆ 10757.0     ┆ 113.0     ┆ 5.938    │\n",
       "└────────────┴─────────────┴───────────┴──────────┘"
      ]
     },
     "execution_count": 5,
     "metadata": {},
     "output_type": "execute_result"
    }
   ],
   "source": [
    "train_data.describe()"
   ]
  },
  {
   "cell_type": "code",
   "execution_count": 6,
   "id": "c0b297c6-70d5-4881-b1b1-15e6c769d12a",
   "metadata": {
    "execution": {
     "iopub.execute_input": "2024-12-07T07:29:44.644262Z",
     "iopub.status.busy": "2024-12-07T07:29:44.643268Z",
     "iopub.status.idle": "2024-12-07T07:29:44.659979Z",
     "shell.execute_reply": "2024-12-07T07:29:44.659326Z",
     "shell.execute_reply.started": "2024-12-07T07:29:44.644225Z"
    }
   },
   "outputs": [
    {
     "data": {
      "text/html": [
       "<div><style>\n",
       ".dataframe > thead > tr > th,\n",
       ".dataframe > tbody > tr > td {\n",
       "  text-align: right;\n",
       "}\n",
       "</style>\n",
       "<small>shape: (9, 4)</small><table border=\"1\" class=\"dataframe\"><thead><tr><th>describe</th><th>userId</th><th>jokeId</th><th>rating</th></tr><tr><td>str</td><td>f64</td><td>f64</td><td>f64</td></tr></thead><tbody><tr><td>&quot;count&quot;</td><td>61983.0</td><td>61983.0</td><td>61983.0</td></tr><tr><td>&quot;null_count&quot;</td><td>0.0</td><td>0.0</td><td>0.0</td></tr><tr><td>&quot;mean&quot;</td><td>6781.68622</td><td>62.076715</td><td>1.62009</td></tr><tr><td>&quot;std&quot;</td><td>4500.700437</td><td>43.642258</td><td>5.581423</td></tr><tr><td>&quot;min&quot;</td><td>1.0</td><td>5.0</td><td>-10.0</td></tr><tr><td>&quot;max&quot;</td><td>14780.0</td><td>150.0</td><td>10.0</td></tr><tr><td>&quot;median&quot;</td><td>6308.0</td><td>56.0</td><td>2.312</td></tr><tr><td>&quot;25%&quot;</td><td>2594.0</td><td>19.0</td><td>-2.406</td></tr><tr><td>&quot;75%&quot;</td><td>10821.0</td><td>103.0</td><td>6.094</td></tr></tbody></table></div>"
      ],
      "text/plain": [
       "shape: (9, 4)\n",
       "┌────────────┬─────────────┬───────────┬──────────┐\n",
       "│ describe   ┆ userId      ┆ jokeId    ┆ rating   │\n",
       "│ ---        ┆ ---         ┆ ---       ┆ ---      │\n",
       "│ str        ┆ f64         ┆ f64       ┆ f64      │\n",
       "╞════════════╪═════════════╪═══════════╪══════════╡\n",
       "│ count      ┆ 61983.0     ┆ 61983.0   ┆ 61983.0  │\n",
       "│ null_count ┆ 0.0         ┆ 0.0       ┆ 0.0      │\n",
       "│ mean       ┆ 6781.68622  ┆ 62.076715 ┆ 1.62009  │\n",
       "│ std        ┆ 4500.700437 ┆ 43.642258 ┆ 5.581423 │\n",
       "│ min        ┆ 1.0         ┆ 5.0       ┆ -10.0    │\n",
       "│ max        ┆ 14780.0     ┆ 150.0     ┆ 10.0     │\n",
       "│ median     ┆ 6308.0      ┆ 56.0      ┆ 2.312    │\n",
       "│ 25%        ┆ 2594.0      ┆ 19.0      ┆ -2.406   │\n",
       "│ 75%        ┆ 10821.0     ┆ 103.0     ┆ 6.094    │\n",
       "└────────────┴─────────────┴───────────┴──────────┘"
      ]
     },
     "execution_count": 6,
     "metadata": {},
     "output_type": "execute_result"
    }
   ],
   "source": [
    "test_data.describe()"
   ]
  },
  {
   "cell_type": "code",
   "execution_count": 7,
   "id": "babea5bf-f17c-4f8e-b0f3-48ee6fb297da",
   "metadata": {
    "execution": {
     "iopub.execute_input": "2024-12-07T07:29:44.661324Z",
     "iopub.status.busy": "2024-12-07T07:29:44.660728Z",
     "iopub.status.idle": "2024-12-07T07:29:44.670846Z",
     "shell.execute_reply": "2024-12-07T07:29:44.670298Z",
     "shell.execute_reply.started": "2024-12-07T07:29:44.661301Z"
    },
    "tags": []
   },
   "outputs": [
    {
     "data": {
      "text/plain": [
       "150"
      ]
     },
     "execution_count": 7,
     "metadata": {},
     "output_type": "execute_result"
    }
   ],
   "source": [
    "len(shuffled_items)"
   ]
  },
  {
   "cell_type": "markdown",
   "id": "7a7813b1-28ea-45cb-8d55-e65e65536335",
   "metadata": {},
   "source": [
    "#### Saving splitted data"
   ]
  },
  {
   "cell_type": "code",
   "execution_count": 8,
   "id": "1110a8ba-6f0a-46a0-b42c-70e4788749b3",
   "metadata": {
    "execution": {
     "iopub.execute_input": "2024-12-07T07:29:44.672489Z",
     "iopub.status.busy": "2024-12-07T07:29:44.671703Z",
     "iopub.status.idle": "2024-12-07T07:29:44.753265Z",
     "shell.execute_reply": "2024-12-07T07:29:44.752635Z",
     "shell.execute_reply.started": "2024-12-07T07:29:44.672457Z"
    },
    "tags": []
   },
   "outputs": [],
   "source": [
    "train_data.write_parquet(\"../data/processed/train_data.parquet\")\n",
    "test_data.write_parquet(\"../data/processed/test_data.parquet\")\n",
    "shuffled_items.write_parquet(\"../data/processed/shuffled_jokes.parquet\")"
   ]
  }
 ],
 "metadata": {
  "kernelspec": {
   "display_name": "DataSphere Kernel",
   "language": "python",
   "name": "python3"
  },
  "language_info": {
   "codemirror_mode": {
    "name": "ipython",
    "version": 3
   },
   "file_extension": ".py",
   "mimetype": "text/x-python",
   "name": "python",
   "nbconvert_exporter": "python",
   "pygments_lexer": "ipython3",
   "version": "3.10.12"
  }
 },
 "nbformat": 4,
 "nbformat_minor": 5
}
